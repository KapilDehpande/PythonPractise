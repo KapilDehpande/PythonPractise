{
  "nbformat": 4,
  "nbformat_minor": 0,
  "metadata": {
    "colab": {
      "name": "udemypractise.ipynb",
      "provenance": [],
      "collapsed_sections": []
    },
    "kernelspec": {
      "name": "python3",
      "display_name": "Python 3"
    },
    "language_info": {
      "name": "python"
    }
  },
  "cells": [
    {
      "cell_type": "markdown",
      "metadata": {
        "id": "aw5YILACV5pf"
      },
      "source": [
        "Addition of two digits of a number"
      ]
    },
    {
      "cell_type": "code",
      "metadata": {
        "colab": {
          "base_uri": "https://localhost:8080/"
        },
        "id": "GHa6GU3KtAnA",
        "outputId": "140f7050-3be6-43ec-e742-f520972f53ad"
      },
      "source": [
        "two_digit_number = input(\"Type a two digit no: \")\n",
        "first_digit = two_digit_number[0]\n",
        "second_digit = two_digit_number[1]\n",
        "result = int(first_digit) + int(second_digit)\n",
        "print(result)"
      ],
      "execution_count": null,
      "outputs": [
        {
          "output_type": "stream",
          "name": "stdout",
          "text": [
            "Type a two digit no: 99\n",
            "18\n"
          ]
        }
      ]
    },
    {
      "cell_type": "markdown",
      "metadata": {
        "id": "EhtJJOuMV3jc"
      },
      "source": [
        "BMI calculation\n"
      ]
    },
    {
      "cell_type": "code",
      "metadata": {
        "id": "vpaKvZNUtgH5",
        "colab": {
          "base_uri": "https://localhost:8080/"
        },
        "outputId": "032f6c9b-30ac-4cd5-efd0-6eae4935e183"
      },
      "source": [
        "height = input(\"Enter Your Height in m: \")\n",
        "weight = input(\"Enter your Weight in kg: \")\n",
        "BMI = int(weight) / float(height)**2\n",
        "BMI_as_int = int(BMI)\n",
        "print(BMI_as_int)\n"
      ],
      "execution_count": null,
      "outputs": [
        {
          "output_type": "stream",
          "name": "stdout",
          "text": [
            "Enter Your Height in m: 1.5\n",
            "Enter your Weight in kg: 50\n",
            "22\n"
          ]
        }
      ]
    },
    {
      "cell_type": "code",
      "metadata": {
        "id": "WA2gFtF0W6d3"
      },
      "source": [
        "print(round(8/3, 2))\n"
      ],
      "execution_count": null,
      "outputs": []
    },
    {
      "cell_type": "code",
      "metadata": {
        "colab": {
          "base_uri": "https://localhost:8080/"
        },
        "id": "N4MpohNyZcgr",
        "outputId": "c01f557e-68f3-4b6d-d687-04e7524299f0"
      },
      "source": [
        "print(round(8/3, 2))"
      ],
      "execution_count": null,
      "outputs": [
        {
          "output_type": "stream",
          "name": "stdout",
          "text": [
            "2.67\n"
          ]
        }
      ]
    },
    {
      "cell_type": "markdown",
      "metadata": {
        "id": "6VKavbAGcuqz"
      },
      "source": [
        "Age months days left"
      ]
    },
    {
      "cell_type": "code",
      "metadata": {
        "colab": {
          "base_uri": "https://localhost:8080/"
        },
        "id": "NrFEAO4dZ4Nj",
        "outputId": "2ca4ac7d-346e-4dcd-9c81-9a45d5e13506"
      },
      "source": [
        "age = input(\"What is your current age? \")\n",
        "age_as_int = int(age)\n",
        "Years_remaining = 75 - age_as_int\n",
        "Days_remaining = Years_remaining*365\n",
        "Months_remaining = Years_remaining*12\n",
        "Weeks_remaining = Years_remaining*52\n",
        "print(f\"You have {Days_remaining} days, {Weeks_remaining} weeks, {Months_remaining} months\")"
      ],
      "execution_count": null,
      "outputs": [
        {
          "output_type": "stream",
          "name": "stdout",
          "text": [
            "What is your current age? 25\n",
            "You have 18250 days, 2600 weeks, 600 months\n"
          ]
        }
      ]
    },
    {
      "cell_type": "markdown",
      "metadata": {
        "id": "wOJ5aKNt-q3U"
      },
      "source": [
        "Tip Calculator"
      ]
    },
    {
      "cell_type": "code",
      "metadata": {
        "id": "yzlFNjI5d5sN",
        "colab": {
          "base_uri": "https://localhost:8080/"
        },
        "outputId": "743c2b9b-5356-47e8-9cfb-365d7611b53b"
      },
      "source": [
        "print(\"Welcome to the Tip Calculator!\")\n",
        "\n",
        "bill =float(input(\"What was the Total bill? $\"))\n",
        "tip= int(input(\"How much tip you would like to give? 10, 12 or 15\"))\n",
        "people = int(input(\"How many people to split the bill? \"))\n",
        "Bill_With_Tip = bill*tip/100 + bill\n",
        "Bill_per_person = Bill_With_Tip/ people\n",
        "FinalAmount= round(Bill_per_person, 2)\n",
        "print(f\"Each person should pay {FinalAmount}\")"
      ],
      "execution_count": null,
      "outputs": [
        {
          "output_type": "stream",
          "name": "stdout",
          "text": [
            "Welcome to the Tip Calculator!\n",
            "What was the Total bill? $200\n",
            "How much tip you would like to give? 10, 12 or 1510\n",
            "How many people to split the bill? 10\n",
            "Each person should pay 22.0\n"
          ]
        }
      ]
    },
    {
      "cell_type": "markdown",
      "metadata": {
        "id": "d_nmxM40CDgz"
      },
      "source": [
        "If- else statement\n",
        "\n",
        "\n"
      ]
    },
    {
      "cell_type": "code",
      "metadata": {
        "id": "iwJpYCYiCeeR"
      },
      "source": [
        ""
      ],
      "execution_count": null,
      "outputs": []
    },
    {
      "cell_type": "code",
      "metadata": {
        "id": "l1hTD-r1CKm-",
        "colab": {
          "base_uri": "https://localhost:8080/"
        },
        "outputId": "3f2dab26-207a-4a7c-8c98-baee2efc6f23"
      },
      "source": [
        "print(\"Welcome t rollercoaster\")\n",
        "height = int(input(\"What is  your height? \"))\n",
        "if height>=120:\n",
        "  print(\"You can ride the rollercoaster\")\n",
        "else:\n",
        "  print(\"You can not ride\")"
      ],
      "execution_count": null,
      "outputs": [
        {
          "output_type": "stream",
          "name": "stdout",
          "text": [
            "Welcome t rollercoaster\n",
            "What is  your height? 120\n",
            "You can ride the rollercoaster\n"
          ]
        }
      ]
    },
    {
      "cell_type": "markdown",
      "metadata": {
        "id": "xWzhkWRbETGz"
      },
      "source": [
        "Odd OR even"
      ]
    },
    {
      "cell_type": "code",
      "metadata": {
        "colab": {
          "base_uri": "https://localhost:8080/"
        },
        "id": "vZ8pPtkQC1Sm",
        "outputId": "42977af2-2d31-4689-c273-5f468ca4c451"
      },
      "source": [
        "Number =  int(input(\"Which number do yu want to check? \"))\n",
        "if Number%2 == 0:\n",
        "  print(\"Number is Even\")\n",
        "else:\n",
        "  print(\"Number is odd\")"
      ],
      "execution_count": null,
      "outputs": [
        {
          "output_type": "stream",
          "name": "stdout",
          "text": [
            "Which number do yu want to check? 22\n",
            "Number is Even\n"
          ]
        }
      ]
    },
    {
      "cell_type": "markdown",
      "metadata": {
        "id": "61lcsM2yPL3t"
      },
      "source": [
        "BMI 2.0"
      ]
    },
    {
      "cell_type": "code",
      "metadata": {
        "colab": {
          "base_uri": "https://localhost:8080/"
        },
        "id": "S4gepJU9ErSk",
        "outputId": "5f249496-0690-4c55-e3d7-6ca6b54575a3"
      },
      "source": [
        "height = float(input(\"Enter Your Height in m: \"))\n",
        "weight = float(input(\"Enter your Weight in kg: \"))\n",
        "BMI = round(weight/ height**2)\n",
        "\n",
        "print(BMI)\n",
        "if BMI <18.5:\n",
        "  print(\"You are Underweight\")\n",
        "elif BMI<25:\n",
        "  print(\"You have a normal weight\")\n",
        "elif BMI<30:\n",
        "  print(\"You are overweight\")\n",
        "elif BMI<35:\n",
        "  print(\"You are obese\")\n",
        "else:\n",
        "  print(\"You are clinically case\")"
      ],
      "execution_count": null,
      "outputs": [
        {
          "output_type": "stream",
          "name": "stdout",
          "text": [
            "Enter Your Height in m: 1.5\n",
            "Enter your Weight in kg: 65\n",
            "29\n",
            "You are overweight\n"
          ]
        }
      ]
    },
    {
      "cell_type": "markdown",
      "metadata": {
        "id": "1h2BlGWlPzPL"
      },
      "source": [
        "Leap year"
      ]
    },
    {
      "cell_type": "code",
      "metadata": {
        "colab": {
          "base_uri": "https://localhost:8080/"
        },
        "id": "XN29STnZQ7A_",
        "outputId": "e5b48d9e-6a80-48b9-f1c1-e0882f2323ab"
      },
      "source": [
        "year = int(input(\"Which year you want to check? \"))\n",
        "if year%4==0:\n",
        "  if year%100==0:\n",
        "    if year%400==0:\n",
        "      print(\"Leap year\")\n",
        "    else:\n",
        "      print(\"Not a leap year\")\n",
        "  else:\n",
        "    print(\"Leap year\")\n",
        "else:    \n",
        "  print(\"Not a Leap year\")"
      ],
      "execution_count": null,
      "outputs": [
        {
          "output_type": "stream",
          "name": "stdout",
          "text": [
            "Which year you want to check? 2017\n",
            "Not a Leap year\n"
          ]
        }
      ]
    },
    {
      "cell_type": "code",
      "metadata": {
        "id": "3gzUcs-9S_lr"
      },
      "source": [
        "2017\n"
      ],
      "execution_count": null,
      "outputs": []
    },
    {
      "cell_type": "markdown",
      "metadata": {
        "id": "nQb0dML3FnK6"
      },
      "source": [
        "PIzzza Order"
      ]
    },
    {
      "cell_type": "code",
      "metadata": {
        "colab": {
          "base_uri": "https://localhost:8080/"
        },
        "id": "4hmj0PLJFo4j",
        "outputId": "2eaf5c25-1a9e-427b-cd2c-5c4e4a513f23"
      },
      "source": [
        "print(\"Welcome to the python pizza Deliveries\")\n",
        "size = input(\"What size do you want S, M, L? \")\n",
        "add_pepperoni = input(\"Do you want pepperoni? \")\n",
        "extra_cheese = input(\"Do you want extra cheese? \")\n",
        "bill= 0\n",
        "if size==\"S\":\n",
        "  bill += 15\n",
        "elif size==\"M\":\n",
        "  bill += 20\n",
        "else:\n",
        "  bill ++ 25\n",
        "\n",
        "if add_pepperoni == \"Y\":\n",
        "  if size== \"S\":\n",
        "    bill += 2\n",
        "  else:\n",
        "    bill += 3\n",
        "\n",
        "if extra_cheese == \"Y\":\n",
        "  bill += 1\n",
        "\n",
        "print(f\"Your final bill is {bill}\")"
      ],
      "execution_count": null,
      "outputs": [
        {
          "output_type": "stream",
          "name": "stdout",
          "text": [
            "Welcome to the python pizza Deliveries\n",
            "What size do you want S, M, L? S\n",
            "Do you want pepperoni? Y\n",
            "Do you want extra cheese? Y\n",
            "Your final bill is 18\n"
          ]
        }
      ]
    },
    {
      "cell_type": "code",
      "metadata": {
        "colab": {
          "base_uri": "https://localhost:8080/"
        },
        "id": "vHzz4lAsIN0P",
        "outputId": "46e995d4-7cab-472e-d247-6748f12f7e06"
      },
      "source": [
        "a =12\n",
        "a>15"
      ],
      "execution_count": null,
      "outputs": [
        {
          "output_type": "execute_result",
          "data": {
            "text/plain": [
              "False"
            ]
          },
          "metadata": {},
          "execution_count": 4
        }
      ]
    },
    {
      "cell_type": "markdown",
      "metadata": {
        "id": "KI4fFsv-OqGI"
      },
      "source": [
        "Love calculator"
      ]
    },
    {
      "cell_type": "code",
      "metadata": {
        "colab": {
          "base_uri": "https://localhost:8080/"
        },
        "id": "Dt2ULBo4JK_D",
        "outputId": "50df95f9-cbb2-4abf-f2e8-70457f423a07"
      },
      "source": [
        "print(\"Welcome to the love calculator!\")\n",
        "name1 = input(\"What is your name? \\n\")\n",
        "name2 = input(\"What is their name? \\n\")\n",
        "\n",
        "combined_name = name1 + name2\n",
        "lower_case_string = combined_name.lower()\n",
        "t = lower_case_string.count(\"t\")\n",
        "r = lower_case_string.count(\"r\")\n",
        "u = lower_case_string.count(\"u\")\n",
        "e = lower_case_string.count(\"e\")\n",
        "\n",
        "true = t + r + u + e\n",
        "\n",
        "l = lower_case_string.count(\"l\")\n",
        "o = lower_case_string.count(\"o\")\n",
        "v = lower_case_string.count(\"v\")\n",
        "e = lower_case_string.count(\"e\")\n",
        "\n",
        "love = l + o + v + e\n",
        "\n",
        "love_score = int(str(true) + str(love))\n",
        "print(love_score)\n",
        "\n",
        "if (love_score <10) or (love_score > 90):\n",
        "  print(f\"Your score is {love_score}, you go toghether like coke and mentos\")\n",
        "elif (love_score <=50) and (love_score >= 40):\n",
        "  print(f\"Your score is {love_score}, you are alright together\")\n",
        "else:\n",
        "  print(f\"Your score is {love_score}\")\n",
        "\n"
      ],
      "execution_count": null,
      "outputs": [
        {
          "output_type": "stream",
          "name": "stdout",
          "text": [
            "Welcome to the love calculator!\n",
            "What is your name? \n",
            "gtanuj\n",
            "What is their name? \n",
            "sireesha\n",
            "52\n",
            "Your score is 52\n"
          ]
        }
      ]
    },
    {
      "cell_type": "markdown",
      "metadata": {
        "id": "-OBbD9syRCPk"
      },
      "source": [
        "Treasure game"
      ]
    },
    {
      "cell_type": "code",
      "metadata": {
        "id": "OYIyjxCgQcI5",
        "colab": {
          "base_uri": "https://localhost:8080/"
        },
        "outputId": "c14debd5-2e92-4373-a375-39f6b22cf220"
      },
      "source": [
        "print(\"Welcome to tthe treasure game\")\n",
        "print(\"Your mission is to find the treasure\")\n",
        "choice1 = input('You are at a cross road where do you want to go? Type \"Left\" or \"right\" ').lower()\n",
        "if choice1 == \"left\":\n",
        "  choice2 = input('You have to either \"wasit\" or \"swim\" ').lower()\n",
        "  if choice2 == \"wait\":\n",
        "    choice3 = input('Now you are having three door you have to choose among \"red\", \"Yellow\", or \"Blue\"').lower()\n",
        "    if choice3 == \"red\":\n",
        "      print(\"Burned by fire\")\n",
        "    elif choice3 == \"Blue\":\n",
        "      print(\"Eaten by ghosts Game over.\")\n",
        "    elif choice3 == \"yellow\":\n",
        "      print(\"You win\")\n",
        "    else:\n",
        "      print(\"Game over\")\n",
        "\n",
        "  else:\n",
        "    print(\"Game over\")\n",
        "\n",
        "else:\n",
        "  print(\"Game over\")"
      ],
      "execution_count": null,
      "outputs": [
        {
          "output_type": "stream",
          "name": "stdout",
          "text": [
            "Welcome to tthe treasure game\n",
            "Your mission is to find the treasure\n",
            "You are at a cross road where do you want to go? Type \"Left\" or \"right\" left\n",
            "You have to either \"wasit\" or \"swim\" wait\n",
            "Now you are having three door you have to choose among \"red\", \"Yellow\", or \"Blue\"white\n",
            "Game over\n"
          ]
        }
      ]
    },
    {
      "cell_type": "markdown",
      "metadata": {
        "id": "uYsNbFF20A9m"
      },
      "source": [
        "Random module date 17 october"
      ]
    },
    {
      "cell_type": "code",
      "metadata": {
        "id": "0XpebS_KU0_8",
        "colab": {
          "base_uri": "https://localhost:8080/"
        },
        "outputId": "e22d8c85-29b5-422d-9407-310b636027e5"
      },
      "source": [
        "import random\n",
        "random_side = random.randint(1,2)\n",
        "if random_side == 1:\n",
        "  print(\"Heads\")\n",
        "\n",
        "else:\n",
        "  print(\"Tails\")"
      ],
      "execution_count": null,
      "outputs": [
        {
          "output_type": "stream",
          "name": "stdout",
          "text": [
            "Tails\n"
          ]
        }
      ]
    },
    {
      "cell_type": "code",
      "metadata": {
        "colab": {
          "base_uri": "https://localhost:8080/"
        },
        "id": "rQtTS5Uc0Wmr",
        "outputId": "fe08e1e0-1cd4-40cb-84ae-4c34bdc9204d"
      },
      "source": [
        "import random\n",
        "\n",
        "names_string = input(\"Give me everybodys names, seperated by a comma\")\n",
        "names = names_string.split(\", \")\n",
        "num_items = len(names)\n",
        "random_choice = random.randint(0,num_items-1)\n",
        "person_who_will_pay = names[random_choice]\n",
        "print(person_who_will_pay + \" is going to pay the bill\")"
      ],
      "execution_count": null,
      "outputs": [
        {
          "output_type": "stream",
          "name": "stdout",
          "text": [
            "Give me everybodys names, seperated by a commakapil, digi, ashoki\n",
            "digi is going to pay the bill\n"
          ]
        }
      ]
    },
    {
      "cell_type": "code",
      "metadata": {
        "colab": {
          "base_uri": "https://localhost:8080/"
        },
        "id": "IX6id6hH5-1o",
        "outputId": "5e5fbe46-b206-4916-9314-1d654d1c0637"
      },
      "source": [
        "names_string = input(\"Give me everybodys names, seperated by a comma\")\n",
        "names = names_string.split(\", \")\n",
        "person_who_will_pay = random.choice(names)\n",
        "print(person_who_will_pay + \" is going to pay the bill\")"
      ],
      "execution_count": null,
      "outputs": [
        {
          "output_type": "stream",
          "name": "stdout",
          "text": [
            "Give me everybodys names, seperated by a commakapi, digi, shok\n",
            "shok is going to pay the bill\n"
          ]
        }
      ]
    },
    {
      "cell_type": "code",
      "metadata": {
        "colab": {
          "base_uri": "https://localhost:8080/"
        },
        "id": "VeHrb73s8PsW",
        "outputId": "d06358b7-7c12-4b04-d397-4f4deea5cd8f"
      },
      "source": [
        "fruits = [\"Strawberries\", \"Nectarines\", \"Apples\", \"Grapes\", \"Peaches\", \"Cherries\", \"Pears\"]\n",
        "vegetables = [\"Spinach\", \"Kale\", \"Tomatoes\", \"Celery\", \"Potatoes\"]\n",
        " \n",
        "dirty_dozen = [fruits, vegetables]\n",
        " \n",
        "print(dirty_dozen[1][1])"
      ],
      "execution_count": null,
      "outputs": [
        {
          "output_type": "stream",
          "name": "stdout",
          "text": [
            "Kale\n"
          ]
        }
      ]
    },
    {
      "cell_type": "code",
      "metadata": {
        "id": "JdxX2wWV_0fT",
        "colab": {
          "base_uri": "https://localhost:8080/"
        },
        "outputId": "a35254e0-62ad-4008-8441-4a60b0abf291"
      },
      "source": [
        "row1 = [\"⬜️\",\"⬜️\",\"⬜️\"]\n",
        "row2 = [\"⬜️\",\"⬜️\",\"⬜️\"]\n",
        "row3 = [\"⬜️\",\"⬜️\",\"⬜️\"]\n",
        "map = [row1, row2, row3]\n",
        "print(f\"{row1}\\n{row2}\\n{row3}\")\n",
        "position = input(\"Where do you want to put the treasure? \")\n",
        "\n",
        "horizontal = int(position[0])\n",
        "vertical = int(position[1])\n",
        "selected_row = map[vertical - 1]\n",
        "selected_row[horizontal - 1]= \"X\"\n",
        "print(f\"{row1}\\n{row2}\\n{row3}\")\n"
      ],
      "execution_count": null,
      "outputs": [
        {
          "output_type": "stream",
          "name": "stdout",
          "text": [
            "['⬜️', '⬜️', '⬜️']\n",
            "['⬜️', '⬜️', '⬜️']\n",
            "['⬜️', '⬜️', '⬜️']\n",
            "Where do you want to put the treasure? 23\n",
            "['⬜️', '⬜️', '⬜️']\n",
            "['⬜️', '⬜️', '⬜️']\n",
            "['⬜️', 'X', '⬜️']\n"
          ]
        }
      ]
    },
    {
      "cell_type": "code",
      "metadata": {
        "colab": {
          "base_uri": "https://localhost:8080/"
        },
        "id": "tgI2y189VUwP",
        "outputId": "e607e33e-6d25-4860-a468-90673e7a350c"
      },
      "source": [
        "row1 = [\"⬜️\",\"⬜️\",\"⬜️\"]\n",
        "row2 = [\"⬜️\",\"⬜️\",\"⬜️\"]\n",
        "row3 = [\"⬜️\",\"⬜️\",\"⬜️\"]\n",
        "map = [row1, row2, row3]\n",
        "map"
      ],
      "execution_count": null,
      "outputs": [
        {
          "output_type": "execute_result",
          "data": {
            "text/plain": [
              "[['⬜️', '⬜️', '⬜️'], ['⬜️', '⬜️', '⬜️'], ['⬜️', '⬜️', '⬜️']]"
            ]
          },
          "metadata": {},
          "execution_count": 5
        }
      ]
    },
    {
      "cell_type": "markdown",
      "metadata": {
        "id": "EYnzEqPmi8Cz"
      },
      "source": [
        "Rock paper scissors"
      ]
    },
    {
      "cell_type": "code",
      "metadata": {
        "id": "ZcU6b1ECjT96"
      },
      "source": [
        " "
      ],
      "execution_count": null,
      "outputs": []
    },
    {
      "cell_type": "code",
      "metadata": {
        "colab": {
          "base_uri": "https://localhost:8080/"
        },
        "id": "pppBhh3qYOjy",
        "outputId": "499f2af7-0d55-448d-c76c-bce45ca8327e"
      },
      "source": [
        "import random\n",
        "user_choice = input(\"what do you choose. 0 for Rock, 1 for paper or 2 for scissors\")\n",
        "computer_choice = random.randint(0,2)\n",
        "print(f\"computer choose {computer_choice}\")\n"
      ],
      "execution_count": null,
      "outputs": [
        {
          "output_type": "stream",
          "name": "stdout",
          "text": [
            "what do you choose. 0 for Rock, 1 for paper or 2 for scissors0\n",
            "computer choose 1\n"
          ]
        }
      ]
    },
    {
      "cell_type": "code",
      "metadata": {
        "id": "aGiAD8_ykpxA"
      },
      "source": [
        ""
      ],
      "execution_count": null,
      "outputs": []
    }
  ]
}